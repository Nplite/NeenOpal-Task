{
 "cells": [
  {
   "cell_type": "code",
   "execution_count": 19,
   "id": "b0569ed6",
   "metadata": {},
   "outputs": [],
   "source": [
    "import pandas as pd\n",
    "import numpy as np"
   ]
  },
  {
   "cell_type": "markdown",
   "id": "36e03fd7",
   "metadata": {},
   "source": [
    "### 1. Read the csv or excel file. "
   ]
  },
  {
   "cell_type": "code",
   "execution_count": 15,
   "id": "92ef6472",
   "metadata": {},
   "outputs": [
    {
     "data": {
      "text/html": [
       "<div>\n",
       "<style scoped>\n",
       "    .dataframe tbody tr th:only-of-type {\n",
       "        vertical-align: middle;\n",
       "    }\n",
       "\n",
       "    .dataframe tbody tr th {\n",
       "        vertical-align: top;\n",
       "    }\n",
       "\n",
       "    .dataframe thead th {\n",
       "        text-align: right;\n",
       "    }\n",
       "</style>\n",
       "<table border=\"1\" class=\"dataframe\">\n",
       "  <thead>\n",
       "    <tr style=\"text-align: right;\">\n",
       "      <th></th>\n",
       "      <th>bike_name</th>\n",
       "      <th>price</th>\n",
       "      <th>city</th>\n",
       "      <th>kms_driven</th>\n",
       "      <th>owner</th>\n",
       "      <th>age</th>\n",
       "      <th>power</th>\n",
       "      <th>brand</th>\n",
       "    </tr>\n",
       "  </thead>\n",
       "  <tbody>\n",
       "    <tr>\n",
       "      <th>0</th>\n",
       "      <td>TVS Star City Plus Dual Tone 110cc</td>\n",
       "      <td>35000.0</td>\n",
       "      <td>Ahmedabad</td>\n",
       "      <td>17654.0</td>\n",
       "      <td>First Owner</td>\n",
       "      <td>3.0</td>\n",
       "      <td>110.0</td>\n",
       "      <td>TVS</td>\n",
       "    </tr>\n",
       "    <tr>\n",
       "      <th>1</th>\n",
       "      <td>Royal Enfield Classic 350cc</td>\n",
       "      <td>119900.0</td>\n",
       "      <td>Delhi</td>\n",
       "      <td>11000.0</td>\n",
       "      <td>First Owner</td>\n",
       "      <td>4.0</td>\n",
       "      <td>350.0</td>\n",
       "      <td>Royal Enfield</td>\n",
       "    </tr>\n",
       "    <tr>\n",
       "      <th>2</th>\n",
       "      <td>Triumph Daytona 675R</td>\n",
       "      <td>600000.0</td>\n",
       "      <td>Delhi</td>\n",
       "      <td>110.0</td>\n",
       "      <td>First Owner</td>\n",
       "      <td>8.0</td>\n",
       "      <td>675.0</td>\n",
       "      <td>Triumph</td>\n",
       "    </tr>\n",
       "    <tr>\n",
       "      <th>3</th>\n",
       "      <td>TVS Apache RTR 180cc</td>\n",
       "      <td>65000.0</td>\n",
       "      <td>Bangalore</td>\n",
       "      <td>16329.0</td>\n",
       "      <td>First Owner</td>\n",
       "      <td>4.0</td>\n",
       "      <td>180.0</td>\n",
       "      <td>TVS</td>\n",
       "    </tr>\n",
       "    <tr>\n",
       "      <th>4</th>\n",
       "      <td>Yamaha FZ S V 2.0 150cc-Ltd. Edition</td>\n",
       "      <td>80000.0</td>\n",
       "      <td>Bangalore</td>\n",
       "      <td>10000.0</td>\n",
       "      <td>First Owner</td>\n",
       "      <td>3.0</td>\n",
       "      <td>150.0</td>\n",
       "      <td>Yamaha</td>\n",
       "    </tr>\n",
       "  </tbody>\n",
       "</table>\n",
       "</div>"
      ],
      "text/plain": [
       "                              bike_name     price       city  kms_driven  \\\n",
       "0    TVS Star City Plus Dual Tone 110cc   35000.0  Ahmedabad     17654.0   \n",
       "1           Royal Enfield Classic 350cc  119900.0      Delhi     11000.0   \n",
       "2                  Triumph Daytona 675R  600000.0      Delhi       110.0   \n",
       "3                  TVS Apache RTR 180cc   65000.0  Bangalore     16329.0   \n",
       "4  Yamaha FZ S V 2.0 150cc-Ltd. Edition   80000.0  Bangalore     10000.0   \n",
       "\n",
       "         owner  age  power          brand  \n",
       "0  First Owner  3.0  110.0            TVS  \n",
       "1  First Owner  4.0  350.0  Royal Enfield  \n",
       "2  First Owner  8.0  675.0        Triumph  \n",
       "3  First Owner  4.0  180.0            TVS  \n",
       "4  First Owner  3.0  150.0         Yamaha  "
      ]
     },
     "execution_count": 15,
     "metadata": {},
     "output_type": "execute_result"
    }
   ],
   "source": [
    "df = pd.read_csv('C:\\\\Users\\\\Nplite\\\\Desktop\\\\INEURON\\\\used_bikes.csv')\n",
    "df.head()"
   ]
  },
  {
   "cell_type": "markdown",
   "id": "f0a7a625",
   "metadata": {},
   "source": [
    "### 2.A Memory usage before Change the datatypes of the column"
   ]
  },
  {
   "cell_type": "code",
   "execution_count": 16,
   "id": "f7deb417",
   "metadata": {},
   "outputs": [
    {
     "data": {
      "text/plain": [
       "bike_name      object\n",
       "price         float64\n",
       "city           object\n",
       "kms_driven    float64\n",
       "owner          object\n",
       "age           float64\n",
       "power         float64\n",
       "brand          object\n",
       "dtype: object"
      ]
     },
     "execution_count": 16,
     "metadata": {},
     "output_type": "execute_result"
    }
   ],
   "source": [
    "df.dtypes"
   ]
  },
  {
   "cell_type": "code",
   "execution_count": 17,
   "id": "910596a4",
   "metadata": {},
   "outputs": [
    {
     "name": "stdout",
     "output_type": "stream",
     "text": [
      "<class 'pandas.core.frame.DataFrame'>\n",
      "RangeIndex: 149 entries, 0 to 148\n",
      "Data columns (total 8 columns):\n",
      " #   Column      Non-Null Count  Dtype  \n",
      "---  ------      --------------  -----  \n",
      " 0   bike_name   149 non-null    object \n",
      " 1   price       149 non-null    float64\n",
      " 2   city        149 non-null    object \n",
      " 3   kms_driven  149 non-null    float64\n",
      " 4   owner       149 non-null    object \n",
      " 5   age         149 non-null    float64\n",
      " 6   power       149 non-null    float64\n",
      " 7   brand       149 non-null    object \n",
      "dtypes: float64(4), object(4)\n",
      "memory usage: 9.4+ KB\n"
     ]
    }
   ],
   "source": [
    "df.info()"
   ]
  },
  {
   "cell_type": "code",
   "execution_count": 18,
   "id": "eb01942d",
   "metadata": {},
   "outputs": [
    {
     "name": "stdout",
     "output_type": "stream",
     "text": [
      "Original DataFrame:\n",
      "                                bike_name     price       city  kms_driven  \\\n",
      "0      TVS Star City Plus Dual Tone 110cc   35000.0  Ahmedabad     17654.0   \n",
      "1             Royal Enfield Classic 350cc  119900.0      Delhi     11000.0   \n",
      "2                    Triumph Daytona 675R  600000.0      Delhi       110.0   \n",
      "3                    TVS Apache RTR 180cc   65000.0  Bangalore     16329.0   \n",
      "4    Yamaha FZ S V 2.0 150cc-Ltd. Edition   80000.0  Bangalore     10000.0   \n",
      "..                                    ...       ...        ...         ...   \n",
      "144          Royal Enfield Standard 350cc  115000.0  Hyderabad     14900.0   \n",
      "145             Honda CB Shine 125cc Disc   65000.0     Mumbai      2000.0   \n",
      "146            Honda CB Unicorn ABS 150cc   99000.0     Mumbai      4000.0   \n",
      "147              Yamaha YZF-R15 2.0 150cc   68500.0      Delhi     68500.0   \n",
      "148               Yamaha YZF-R15 V3 150cc  140000.0      Delhi      2473.0   \n",
      "\n",
      "            owner  age  power          brand  \n",
      "0     First Owner  3.0  110.0            TVS  \n",
      "1     First Owner  4.0  350.0  Royal Enfield  \n",
      "2     First Owner  8.0  675.0        Triumph  \n",
      "3     First Owner  4.0  180.0            TVS  \n",
      "4     First Owner  3.0  150.0         Yamaha  \n",
      "..            ...  ...    ...            ...  \n",
      "144   First Owner  3.0  350.0  Royal Enfield  \n",
      "145   First Owner  3.0  125.0          Honda  \n",
      "146   First Owner  2.0  150.0          Honda  \n",
      "147  Second Owner  7.0  150.0         Yamaha  \n",
      "148   First Owner  2.0  150.0         Yamaha  \n",
      "\n",
      "[149 rows x 8 columns]\n",
      "\n",
      "Global usage of memory of the DataFrame:\n",
      "<class 'pandas.core.frame.DataFrame'>\n",
      "RangeIndex: 149 entries, 0 to 148\n",
      "Data columns (total 8 columns):\n",
      " #   Column      Non-Null Count  Dtype  \n",
      "---  ------      --------------  -----  \n",
      " 0   bike_name   149 non-null    object \n",
      " 1   price       149 non-null    float64\n",
      " 2   city        149 non-null    object \n",
      " 3   kms_driven  149 non-null    float64\n",
      " 4   owner       149 non-null    object \n",
      " 5   age         149 non-null    float64\n",
      " 6   power       149 non-null    float64\n",
      " 7   brand       149 non-null    object \n",
      "dtypes: float64(4), object(4)\n",
      "memory usage: 45.0 KB\n",
      "None\n",
      "\n",
      "The usage of memory of every column of the said DataFrame:\n",
      "Index           128\n",
      "bike_name     11954\n",
      "price          1192\n",
      "city           9546\n",
      "kms_driven     1192\n",
      "owner         10144\n",
      "age            1192\n",
      "power          1192\n",
      "brand          9517\n",
      "dtype: int64\n"
     ]
    }
   ],
   "source": [
    "print(\"Original DataFrame:\")\n",
    "print(df)\n",
    "print(\"\\nGlobal usage of memory of the DataFrame:\")\n",
    "print(df.info(memory_usage = \"deep\"))\n",
    "print(\"\\nThe usage of memory of every column of the said DataFrame:\")\n",
    "print(df.memory_usage(deep = True))"
   ]
  },
  {
   "cell_type": "markdown",
   "id": "db814635",
   "metadata": {},
   "source": [
    "### 2.B  Memory usage After Change the datatypes of the column"
   ]
  },
  {
   "cell_type": "code",
   "execution_count": null,
   "id": "e21615b9",
   "metadata": {},
   "outputs": [],
   "source": [
    "df = df.astype(str)\n",
    "print(df.dtypes)"
   ]
  },
  {
   "cell_type": "code",
   "execution_count": null,
   "id": "8c264092",
   "metadata": {},
   "outputs": [],
   "source": [
    "print(\"Original DataFrame:\")\n",
    "print(df)\n",
    "print(\"\\nGlobal usage of memory of the DataFrame:\")\n",
    "print(df.info(memory_usage = \"deep\"))\n",
    "print(\"\\nThe usage of memory of every column of the said DataFrame:\")\n",
    "print(df.memory_usage(deep = True))"
   ]
  },
  {
   "cell_type": "code",
   "execution_count": null,
   "id": "652712ff",
   "metadata": {},
   "outputs": [],
   "source": [
    "df.info()"
   ]
  },
  {
   "cell_type": "code",
   "execution_count": null,
   "id": "3618885c",
   "metadata": {},
   "outputs": [],
   "source": [
    "df.dtypes"
   ]
  },
  {
   "cell_type": "markdown",
   "id": "5f595607",
   "metadata": {},
   "source": [
    "# OR"
   ]
  },
  {
   "cell_type": "code",
   "execution_count": 22,
   "id": "70915511",
   "metadata": {},
   "outputs": [],
   "source": [
    "for column in df.columns:\n",
    "    if df[column].dtypes=='float64':\n",
    "        df[column] = df[column].astype(np.float32)"
   ]
  },
  {
   "cell_type": "code",
   "execution_count": 23,
   "id": "e7ef9b49",
   "metadata": {},
   "outputs": [
    {
     "data": {
      "text/plain": [
       "bike_name      object\n",
       "price         float32\n",
       "city           object\n",
       "kms_driven    float32\n",
       "owner          object\n",
       "age           float32\n",
       "power         float32\n",
       "brand          object\n",
       "dtype: object"
      ]
     },
     "execution_count": 23,
     "metadata": {},
     "output_type": "execute_result"
    }
   ],
   "source": [
    "df.dtypes"
   ]
  },
  {
   "cell_type": "code",
   "execution_count": 25,
   "id": "7415be84",
   "metadata": {},
   "outputs": [
    {
     "data": {
      "text/plain": [
       "Index           128\n",
       "bike_name     11954\n",
       "price           596\n",
       "city           9546\n",
       "kms_driven      596\n",
       "owner         10144\n",
       "age             596\n",
       "power           596\n",
       "brand          9517\n",
       "dtype: int64"
      ]
     },
     "execution_count": 25,
     "metadata": {},
     "output_type": "execute_result"
    }
   ],
   "source": [
    "df.memory_usage(deep= True)"
   ]
  },
  {
   "cell_type": "markdown",
   "id": "f8d83eec",
   "metadata": {},
   "source": [
    "### 3.0 Dump the data into the mysql database."
   ]
  },
  {
   "cell_type": "code",
   "execution_count": 28,
   "id": "48c15ada",
   "metadata": {},
   "outputs": [
    {
     "data": {
      "text/html": [
       "<div>\n",
       "<style scoped>\n",
       "    .dataframe tbody tr th:only-of-type {\n",
       "        vertical-align: middle;\n",
       "    }\n",
       "\n",
       "    .dataframe tbody tr th {\n",
       "        vertical-align: top;\n",
       "    }\n",
       "\n",
       "    .dataframe thead th {\n",
       "        text-align: right;\n",
       "    }\n",
       "</style>\n",
       "<table border=\"1\" class=\"dataframe\">\n",
       "  <thead>\n",
       "    <tr style=\"text-align: right;\">\n",
       "      <th></th>\n",
       "      <th>TVS Star City Plus Dual Tone 110cc</th>\n",
       "      <th>35000.0</th>\n",
       "      <th>Ahmedabad</th>\n",
       "      <th>17654.0</th>\n",
       "      <th>First Owner</th>\n",
       "      <th>3.0</th>\n",
       "      <th>110.0</th>\n",
       "      <th>TVS</th>\n",
       "    </tr>\n",
       "  </thead>\n",
       "  <tbody>\n",
       "    <tr>\n",
       "      <th>0</th>\n",
       "      <td>Royal Enfield Classic 350cc</td>\n",
       "      <td>119900.0</td>\n",
       "      <td>Delhi</td>\n",
       "      <td>11000.0</td>\n",
       "      <td>First Owner</td>\n",
       "      <td>4.0</td>\n",
       "      <td>350.0</td>\n",
       "      <td>Royal Enfield</td>\n",
       "    </tr>\n",
       "    <tr>\n",
       "      <th>1</th>\n",
       "      <td>Triumph Daytona 675R</td>\n",
       "      <td>600000.0</td>\n",
       "      <td>Delhi</td>\n",
       "      <td>110.0</td>\n",
       "      <td>First Owner</td>\n",
       "      <td>8.0</td>\n",
       "      <td>675.0</td>\n",
       "      <td>Triumph</td>\n",
       "    </tr>\n",
       "    <tr>\n",
       "      <th>2</th>\n",
       "      <td>TVS Apache RTR 180cc</td>\n",
       "      <td>65000.0</td>\n",
       "      <td>Bangalore</td>\n",
       "      <td>16329.0</td>\n",
       "      <td>First Owner</td>\n",
       "      <td>4.0</td>\n",
       "      <td>180.0</td>\n",
       "      <td>TVS</td>\n",
       "    </tr>\n",
       "    <tr>\n",
       "      <th>3</th>\n",
       "      <td>Yamaha FZ S V 2.0 150cc-Ltd. Edition</td>\n",
       "      <td>80000.0</td>\n",
       "      <td>Bangalore</td>\n",
       "      <td>10000.0</td>\n",
       "      <td>First Owner</td>\n",
       "      <td>3.0</td>\n",
       "      <td>150.0</td>\n",
       "      <td>Yamaha</td>\n",
       "    </tr>\n",
       "    <tr>\n",
       "      <th>4</th>\n",
       "      <td>Yamaha FZs 150cc</td>\n",
       "      <td>53499.0</td>\n",
       "      <td>Delhi</td>\n",
       "      <td>25000.0</td>\n",
       "      <td>First Owner</td>\n",
       "      <td>6.0</td>\n",
       "      <td>150.0</td>\n",
       "      <td>Yamaha</td>\n",
       "    </tr>\n",
       "  </tbody>\n",
       "</table>\n",
       "</div>"
      ],
      "text/plain": [
       "     TVS Star City Plus Dual Tone 110cc   35000.0  Ahmedabad  17654.0  \\\n",
       "0           Royal Enfield Classic 350cc  119900.0      Delhi  11000.0   \n",
       "1                  Triumph Daytona 675R  600000.0      Delhi    110.0   \n",
       "2                  TVS Apache RTR 180cc   65000.0  Bangalore  16329.0   \n",
       "3  Yamaha FZ S V 2.0 150cc-Ltd. Edition   80000.0  Bangalore  10000.0   \n",
       "4                      Yamaha FZs 150cc   53499.0      Delhi  25000.0   \n",
       "\n",
       "   First Owner  3.0  110.0            TVS  \n",
       "0  First Owner  4.0  350.0  Royal Enfield  \n",
       "1  First Owner  8.0  675.0        Triumph  \n",
       "2  First Owner  4.0  180.0            TVS  \n",
       "3  First Owner  3.0  150.0         Yamaha  \n",
       "4  First Owner  6.0  150.0         Yamaha  "
      ]
     },
     "execution_count": 28,
     "metadata": {},
     "output_type": "execute_result"
    }
   ],
   "source": [
    "df = pd.read_csv('C:\\\\Users\\\\Nplite\\\\Desktop\\\\INEURON\\\\used_bikes.csv',skiprows=1,index_col=None)\n",
    "df.head()"
   ]
  },
  {
   "cell_type": "code",
   "execution_count": 29,
   "id": "60fd3b71",
   "metadata": {},
   "outputs": [
    {
     "name": "stdout",
     "output_type": "stream",
     "text": [
      " Volume in drive C has no label.\n",
      " Volume Serial Number is DE5C-05B8\n",
      "\n",
      " Directory of C:\\Users\\Nplite\\Contacts\n",
      "\n",
      "10-11-2022  22:35    <DIR>          .\n",
      "10-11-2022  18:13    <DIR>          ..\n",
      "10-11-2022  21:45    <DIR>          .ipynb_checkpoints\n",
      "10-11-2022  22:42            12,252 Bike_Detail.csv\n",
      "10-11-2022  21:45            56,280 TASK1.ipynb\n",
      "10-11-2022  22:35            42,415 Task2 .ipynb\n",
      "10-11-2022  21:47               576 Task3.ipynb\n",
      "               4 File(s)        111,523 bytes\n",
      "               3 Dir(s)  51,219,210,240 bytes free\n"
     ]
    }
   ],
   "source": [
    "df.to_csv('Bike_Detail.csv')\n",
    "%ls"
   ]
  },
  {
   "cell_type": "code",
   "execution_count": 30,
   "id": "b21ee4ca",
   "metadata": {},
   "outputs": [
    {
     "name": "stdout",
     "output_type": "stream",
     "text": [
      "Requirement already satisfied: mysql-connector-python in c:\\users\\nplite\\anaconda3\\lib\\site-packages (8.0.28)\n",
      "Requirement already satisfied: protobuf>=3.0.0 in c:\\users\\nplite\\anaconda3\\lib\\site-packages (from mysql-connector-python) (3.19.4)\n"
     ]
    }
   ],
   "source": [
    "!pip install mysql-connector-python\n",
    "import mysql.connector as conn  \n",
    "mydb = conn.connect(host = \"localhost\", user = \"root\", passwd = \"Ns.np#123\" )  "
   ]
  },
  {
   "cell_type": "code",
   "execution_count": 34,
   "id": "acec57bd",
   "metadata": {},
   "outputs": [],
   "source": [
    "cursor = mydb.cursor()\n",
    "cursor.execute('create database Bike_Detail_Data1 ')\n",
    "cursor.execute(\"use Bike_Detail_Data1\")"
   ]
  },
  {
   "cell_type": "code",
   "execution_count": 36,
   "id": "29dab568",
   "metadata": {},
   "outputs": [],
   "source": [
    "cursor.execute(\"create table Bike_Detail0(index_column INT(10),bike_name VARCHAR(50), price FLOAT(30), city VARCHAR(30), kms_driven FLOAT(30), owner VARCHAR(30), age FLOAT(30) ,power FLOAT(30),brand VARCHAR(30))\")"
   ]
  },
  {
   "cell_type": "code",
   "execution_count": 37,
   "id": "3a167821",
   "metadata": {},
   "outputs": [],
   "source": [
    "cursor.execute(\"insert into Bike_Detail0 values(0,'TVS Star City Plus Dual Tone 110cc', 35000.0, 'Ahmedabad', 17654.0 , 'First Owner',3.0,110.0,'TVS')\") "
   ]
  },
  {
   "cell_type": "code",
   "execution_count": 38,
   "id": "bbfd2d3c",
   "metadata": {},
   "outputs": [],
   "source": [
    "mydb.commit()"
   ]
  },
  {
   "cell_type": "code",
   "execution_count": 39,
   "id": "22fbe216",
   "metadata": {},
   "outputs": [
    {
     "data": {
      "text/plain": [
       "[(0,\n",
       "  'TVS Star City Plus Dual Tone 110cc',\n",
       "  35000.0,\n",
       "  'Ahmedabad',\n",
       "  17654.0,\n",
       "  'First Owner',\n",
       "  3.0,\n",
       "  110.0,\n",
       "  'TVS')]"
      ]
     },
     "execution_count": 39,
     "metadata": {},
     "output_type": "execute_result"
    }
   ],
   "source": [
    "cursor.execute(\" select * from Bike_Detail0\")\n",
    "cursor.fetchall()"
   ]
  },
  {
   "cell_type": "code",
   "execution_count": 40,
   "id": "40a6c3e9",
   "metadata": {},
   "outputs": [
    {
     "name": "stdout",
     "output_type": "stream",
     "text": [
      "[',TVS Star City Plus Dual Tone 110cc,35000.0,Ahmedabad,17654.0,First Owner,3.0,110.0,TVS']\n",
      "['0,Royal Enfield Classic 350cc,119900.0,Delhi,11000.0,First Owner,4.0,350.0,Royal Enfield']\n",
      "['1,Triumph Daytona 675R,600000.0,Delhi,110.0,First Owner,8.0,675.0,Triumph']\n",
      "['2,TVS Apache RTR 180cc,65000.0,Bangalore,16329.0,First Owner,4.0,180.0,TVS']\n",
      "['3,Yamaha FZ S V 2.0 150cc-Ltd. Edition,80000.0,Bangalore,10000.0,First Owner,3.0,150.0,Yamaha']\n",
      "['4,Yamaha FZs 150cc,53499.0,Delhi,25000.0,First Owner,6.0,150.0,Yamaha']\n",
      "['5,Honda CB Hornet 160R  ABS DLX,85000.0,Delhi,8200.0,First Owner,3.0,160.0,Honda']\n",
      "['6,Hero Splendor Plus Self Alloy 100cc,45000.0,Delhi,12645.0,First Owner,3.0,100.0,Hero']\n",
      "['7,Royal Enfield Thunderbird X 350cc,145000.0,Bangalore,9190.0,First Owner,3.0,350.0,Royal Enfield']\n",
      "['8,Royal Enfield Classic Desert Storm 500cc,88000.0,Delhi,19000.0,Second Owner,7.0,500.0,Royal Enfield']\n",
      "['9,Yamaha YZF-R15 2.0 150cc,72000.0,Bangalore,20000.0,First Owner,7.0,150.0,Yamaha']\n",
      "['10,Yamaha FZ25 250cc,95000.0,Bangalore,9665.0,First Owner,4.0,250.0,Yamaha']\n",
      "['11,Bajaj Pulsar NS200,78000.0,Bangalore,9900.0,First Owner,4.0,200.0,Bajaj']\n",
      "['12,Bajaj Discover 100M,29499.0,Delhi,20000.0,First Owner,8.0,100.0,Bajaj']\n",
      "['13,Bajaj Discover 125M,29900.0,Delhi,20000.0,First Owner,7.0,125.0,Bajaj']\n",
      "['14,Bajaj Pulsar NS200 ABS,90000.0,Bangalore,11574.0,First Owner,3.0,200.0,Bajaj']\n",
      "['15,Bajaj Pulsar RS200 ABS,120000.0,Bangalore,23000.0,First Owner,3.0,200.0,Bajaj']\n",
      "['16,Suzuki Gixxer SF 150cc,48000.0,Mumbai,24725.0,First Owner,5.0,150.0,Suzuki']\n",
      "['17,Benelli 302R 300CC,240000.0,Mumbai,15025.0,Second Owner,3.0,302.0,Benelli']\n",
      "['18,Bajaj Discover 125M,29900.0,Delhi,20000.0,First Owner,7.0,125.0,Bajaj']\n",
      "['19,Bajaj Pulsar RS200 ABS,120000.0,Bangalore,23000.0,First Owner,3.0,200.0,Bajaj']\n",
      "['20,Suzuki Gixxer SF 150cc,48000.0,Mumbai,24725.0,First Owner,5.0,150.0,Suzuki']\n",
      "['21,Hero Splendor iSmart Plus IBS 110cc,46500.0,Delhi,3500.0,First Owner,2.0,110.0,Hero']\n",
      "['22,Royal Enfield Classic Chrome 500cc,121700.0,Kalyan,24520.0,First Owner,5.0,500.0,Royal Enfield']\n",
      "['23,Yamaha FZ V 2.0 150cc,45000.0,Delhi,23000.0,First Owner,6.0,150.0,Yamaha']\n",
      "['24,Bajaj Pulsar NS200,78000.0,Bangalore,9900.0,First Owner,4.0,200.0,Bajaj']\n",
      "['25,Hero Super Splendor 125cc,20000.0,Ahmedabad,29305.0,First Owner,16.0,125.0,Hero']\n",
      "['26,Honda CBF Stunner 125cc,20800.0,Faridabad,30500.0,Second Owner,7.0,125.0,Honda']\n",
      "['27,Bajaj Pulsar 150cc,50000.0,Bangalore,19000.0,First Owner,8.0,150.0,Bajaj']\n",
      "['28,Honda X-Blade 160CC ABS,81200.0,Mettur,9100.0,First Owner,2.0,160.0,Honda']\n",
      "['29,Bajaj Pulsar NS200,88000.0,Hyderabad,21914.0,First Owner,3.0,200.0,Bajaj']\n",
      "['30,Yamaha YZF-R15 2.0 150cc,80000.0,Kaithal,20000.0,Second Owner,4.0,150.0,Yamaha']\n",
      "['31,Bajaj Avenger 220cc,40900.0,Gurgaon,15000.0,First Owner,6.0,220.0,Bajaj']\n",
      "['32,KTM RC 390cc,180000.0,Pune,17700.0,First Owner,4.0,390.0,KTM']\n",
      "['33,Honda CB Unicorn 150cc,40000.0,Noida,30000.0,First Owner,8.0,150.0,Honda']\n",
      "['34,KTM Duke 200cc,70000.0,Nashik,100000.0,Second Owner,8.0,200.0,KTM']\n",
      "['35,Royal Enfield Classic 350cc,98800.0,Kochi,39000.0,First Owner,5.0,350.0,Royal Enfield']\n",
      "['36,Honda CBR 150R 150cc,65000.0,Allahabad,43000.0,First Owner,6.0,150.0,Honda']\n",
      "['37,Royal Enfield Thunderbird X 500cc,190500.0,Samastipur,4550.0,First Owner,2.0,500.0,Royal Enfield']\n",
      "['38,KTM RC 200cc ABS,179000.0,Bangalore,3400.0,First Owner,2.0,200.0,KTM']\n",
      "['39,Royal Enfield Thunderbird 350cc,70000.0,Nadiad,45000.0,First Owner,8.0,350.0,Royal Enfield']\n",
      "['40,Bajaj Avenger 220cc,45000.0,Hyderabad,36100.0,First Owner,6.0,220.0,Bajaj']\n",
      "['41,Royal Enfield Bullet Electra 350cc,78000.0,Lucknow,8500.0,First Owner,13.0,350.0,Royal Enfield']\n",
      "['42,Bajaj Avenger Street 220 ABS,110000.0,Bangalore,2550.0,First Owner,2.0,220.0,Bajaj']\n",
      "['43,Royal Enfield Classic 350cc,85000.0,Delhi,18000.0,First Owner,6.0,350.0,Royal Enfield']\n",
      "['44,Bajaj Pulsar NS200,38000.0,Delhi,35000.0,First Owner,9.0,200.0,Bajaj']\n",
      "['45,Royal Enfield Thunderbird 350cc,55346.0,Noida,38000.0,First Owner,10.0,350.0,Royal Enfield']\n",
      "['46,Mahindra Centuro NXT 110cc,28000.0,Jaipur,45000.0,First Owner,2.0,110.0,Mahindra']\n",
      "['47,Hero Hunk 150cc,37000.0,Mumbai,10800.0,First Owner,8.0,150.0,Hero']\n",
      "['48,Suzuki Gixxer SF Fi 150cc SP ABS,97000.0,Delhi,4400.0,First Owner,3.0,150.0,Suzuki']\n",
      "['49,Yamaha FZ 150cc,40000.0,Karnal,357000.0,First Owner,8.0,150.0,Yamaha']\n",
      "['50,Royal Enfieldâ€Ž Bullet 350cc,90000.0,Delhi,15300.0,First Owner,7.0,350.0,Royal Enfield']\n",
      "['51,TVS Apache RTR 160cc,60000.0,Mumbai,30000.0,First Owner,5.0,160.0,TVS']\n",
      "['52,Honda CB Shine 125cc,21900.0,Gorakhpur,30000.0,Second Owner,7.0,125.0,Honda']\n",
      "['53,Bajaj Avenger 220cc,40000.0,Ahmedabad,64000.0,First Owner,7.0,220.0,Bajaj']\n",
      "['54,Benelli TNT 600i ABS,475000.0,Mumbai,11500.0,Second Owner,3.0,600.0,Benelli']\n",
      "['55,Honda Dream Yuga 110cc,34500.0,Ahmedabad,17056.0,First Owner,5.0,110.0,Honda']\n",
      "['56,Yamaha SZ 150cc,25000.0,Vidisha,172082.0,First Owner,9.0,150.0,Yamaha']\n",
      "['57,Suzuki Gixxer 150cc,30200.0,Bangalore,45000.0,First Owner,7.0,150.0,Suzuki']\n",
      "['58,Bajaj Avenger Cruise 220,65000.0,Hosur,35000.0,First Owner,5.0,220.0,Bajaj']\n",
      "['59,Bajaj Pulsar 150cc,25000.0,Mumbai,38000.0,First Owner,9.0,150.0,Bajaj']\n",
      "['60,Kawasaki Z900,935000.0,Bagalkot,2500.0,First Owner,2.0,900.0,Kawasaki']\n",
      "['61,Royal Enfield Bullet Electra 350cc,107100.0,Delhi,15438.0,Second Owner,3.0,350.0,Royal Enfield']\n",
      "['62,Bajaj Pulsar 220cc,80000.0,Delhi,6000.0,First Owner,3.0,220.0,Bajaj']\n",
      "['63,Royal Enfield Thunderbird 350cc,88000.0,Delhi,19000.0,First Owner,5.0,350.0,Royal Enfield']\n",
      "['64,KTM Duke 200cc,94700.0,Baripara,32700.0,First Owner,4.0,200.0,KTM']\n",
      "['65,Hero CD Deluxe 100cc,12200.0,Agra,46643.0,First Owner,14.0,100.0,Hero']\n",
      "['66,Royal Enfield Classic 350cc,106000.0,Delhi,19000.0,First Owner,6.0,350.0,Royal Enfield']\n",
      "['67,Bajaj Pulsar 220cc,29500.0,Hyderabad,40700.0,First Owner,12.0,220.0,Bajaj']\n",
      "['68,Kawasaki Ninja 650cc,290000.0,Dharwad,11350.0,First Owner,7.0,650.0,Kawasaki']\n",
      "['69,Royal Enfield Thunderbird 350cc,110000.0,Delhi,1600.0,First Owner,6.0,350.0,Royal Enfield']\n",
      "['70,Bajaj Platina 125cc,27000.0,Vadodara,44410.0,First Owner,10.0,125.0,Bajaj']\n",
      "['71,Royal Enfield Thunderbird 350cc,65000.0,Jalandhar,9800.0,First Owner,11.0,350.0,Royal Enfield']\n",
      "['72,Royal Enfield Thunderbird X 350cc,150000.0,Bangalore,15000.0,First Owner,3.0,350.0,Royal Enfield']\n",
      "['73,Hero Karizma ZMR 223cc,55786.0,Surat,68000.0,Second Owner,7.0,223.0,Hero']\n",
      "['74,Bajaj Pulsar 180cc,45000.0,Bangalore,17757.0,First Owner,8.0,180.0,Bajaj']\n",
      "['75,Yamaha FZ25 ABS 250cc,146000.0,Chennai,3900.0,First Owner,2.0,250.0,Yamaha']\n",
      "['76,Royal Enfield Thunderbird 350cc,115000.0,Bangalore,23700.0,First Owner,4.0,350.0,Royal Enfield']\n",
      "['77,Bajaj CT 100 100cc,30000.0,Noida,8250.0,First Owner,3.0,100.0,Bajaj']\n",
      "['78,Bajaj Pulsar RS200 ABS,93100.0,Mumbai,10000.0,First Owner,5.0,200.0,Bajaj']\n",
      "['79,Yamaha YZF-R15 2.0 150cc,82000.0,Mumbai,4300.0,Second Owner,3.0,150.0,Yamaha']\n",
      "['80,Royal Enfield Interceptor 650cc,260000.0,Navi Mumbai,3800.0,First Owner,2.0,650.0,Royal Enfield']\n",
      "['81,Honda CB Shine 125cc,38000.0,Bangalore,33000.0,First Owner,7.0,125.0,Honda']\n",
      "['82,KTM Duke 250cc,130000.0,Gandhidham,17500.0,Second Owner,4.0,250.0,KTM']\n",
      "['83,Royal Enfield Himalayan 410cc,118000.0,Gurgaon,19000.0,First Owner,4.0,410.0,Royal Enfield']\n",
      "['84,Bajaj Pulsar 135LS,14700.0,Delhi,10000.0,First Owner,11.0,135.0,Bajaj']\n",
      "['85,Royal Enfield Thunderbird 350cc,85000.0,Chennai,54000.0,First Owner,6.0,350.0,Royal Enfield']\n",
      "['86,Bajaj Pulsar 220F,40000.0,Mumbai,27000.0,First Owner,7.0,220.0,Bajaj']\n",
      "['87,Yamaha FZ16 150cc,50000.0,Bangalore,19000.0,First Owner,6.0,150.0,Yamaha']\n",
      "['88,Royal Enfield Thunderbird 350cc,71800.0,Mumbai,43500.0,First Owner,7.0,350.0,Royal Enfield']\n",
      "['89,Royal Enfield Thunderbird 350cc,71800.0,Mumbai,43500.0,First Owner,7.0,350.0,Royal Enfield']\n",
      "['90,Bajaj Pulsar NS200,75000.0,Bangalore,11575.0,First Owner,4.0,200.0,Bajaj']\n",
      "['91,Ducati Scrambler 1100 Special,1350000.0,Mumbai,190.0,First Owner,1.0,1100.0,Ducati']\n",
      "['92,Triumph Street Triple 765,790000.0,Mumbai,19000.0,First Owner,3.0,765.0,Triumph']\n",
      "['93,Bajaj V15 150cc,47000.0,Bangalore,8600.0,First Owner,4.0,150.0,Bajaj']\n",
      "['94,Bajaj Pulsar 150cc,60000.0,Pune,2000.0,First Owner,2.0,150.0,Bajaj']\n",
      "['95,Suzuki Gixxer Fi 150cc ABS,96700.0,Vadodara,5100.0,First Owner,1.0,150.0,Suzuki']\n",
      "['96,Hero Splendor plus 100cc,31900.0,Delhi,9000.0,First Owner,5.0,100.0,Hero']\n",
      "['97,Bajaj Pulsar 150cc,35000.0,Visakhapatnam,44480.0,First Owner,13.0,150.0,Bajaj']\n",
      "['98,KTM Duke 390cc,240000.0,Bangalore,11000.0,First Owner,3.0,390.0,KTM']\n",
      "['99,Honda CBR 250R,68000.0,Delhi,16000.0,First Owner,7.0,250.0,Honda']\n",
      "['100,Bajaj Pulsar RS200,80000.0,Bangalore,26691.0,First Owner,5.0,200.0,Bajaj']\n",
      "['101,Royal Enfield Classic 350cc,135000.0,Bangalore,45000.0,First Owner,5.0,350.0,Royal Enfield']\n",
      "['102,Bajaj Pulsar 150cc,11100.0,Pune,12000.0,Third Owner,12.0,150.0,Bajaj']\n",
      "['103,Benelli TNT 600i,480000.0,Mumbai,14200.0,First Owner,4.0,600.0,Benelli']\n",
      "['104,Suzuki Gixxer 150cc SP Rear Disc,65000.0,Thrissur,41000.0,First Owner,3.0,150.0,Suzuki']\n",
      "['105,Yamaha FZ S V 2.0 150cc,60000.0,Bangalore,15000.0,First Owner,5.0,150.0,Yamaha']\n",
      "['106,Honda CBR 150R 150cc,80000.0,Bangalore,12314.0,First Owner,4.0,150.0,Honda']\n",
      "['107,Hero Splendor Plus Self Alloy 100cc,46000.0,Delhi,11760.0,First Owner,3.0,100.0,Hero']\n",
      "['108,Royal Enfield Classic 500cc,95000.0,Bangalore,22000.0,First Owner,11.0,500.0,Royal Enfield']\n",
      "['109,Hyosung GT650R,400000.0,Delhi,1800.0,First Owner,4.0,650.0,Hyosung']\n",
      "['110,Bajaj V15 150cc,55000.0,Bangalore,4400.0,First Owner,4.0,150.0,Bajaj']\n",
      "['111,Yamaha YZF-R15 S 150cc,63000.0,Delhi,16000.0,First Owner,5.0,150.0,Yamaha']\n",
      "['112,Bajaj V15 150cc,51000.0,Faridabad,9000.0,First Owner,4.0,150.0,Bajaj']\n",
      "['113,TVS Apache RTR 160 4V Disc,69900.0,Delhi,8700.0,First Owner,3.0,160.0,TVS']\n",
      "['114,Bajaj Pulsar RS200 ABS,125000.0,Gorakhpur,1342.0,First Owner,4.0,200.0,Bajaj']\n",
      "['115,Benelli TNT 300,210000.0,Kolkata,21000.0,First Owner,6.0,300.0,Benelli']\n",
      "['116,Honda CB ShineSP 125cc,35900.0,Delhi,19000.0,First Owner,5.0,125.0,Honda']\n",
      "['117,Honda CBR 250R,67000.0,Delhi,13000.0,First Owner,9.0,250.0,Honda']\n",
      "['118,Hero Passion Pro 100cc,29339.0,Ernakulam,12771.0,First Owner,4.0,100.0,Hero']\n",
      "['119,Hero Splendor Plus 100cc,19695.0,Ernakulam,51576.0,First Owner,6.0,100.0,Hero']\n",
      "['120,Hero Splendor iSmart Plus IBS 110cc,48672.0,Ernakulam,608.0,First Owner,2.0,110.0,Hero']\n",
      "['121,Honda CBR 150R 150cc,40000.0,Mumbai,13680.0,First Owner,9.0,150.0,Honda']\n",
      "['122,Yamaha YZF R6 600cc,500000.0,Bangalore,285.0,First Owner,5.0,600.0,Yamaha']\n",
      "['123,Ducati 1299 Superleggera,800000.0,Mumbai,3.0,First Owner,3.0,1299.0,Ducati']\n",
      "['124,Royal Enfield Himalayan 410cc,110000.0,Bangalore,24676.0,First Owner,5.0,410.0,Royal Enfield']\n",
      "['125,Royal Enfield Classic 350cc,92500.0,Delhi,11000.0,First Owner,6.0,350.0,Royal Enfield']\n",
      "['126,Bajaj Pulsar NS200,57000.0,Bangalore,28948.0,First Owner,5.0,200.0,Bajaj']\n",
      "['127,Royal Enfield Electra 350cc,72500.0,Delhi,10000.0,First Owner,10.0,350.0,Royal Enfield']\n",
      "['128,KTM Duke 200cc,68000.0,Delhi,16000.0,First Owner,9.0,200.0,KTM']\n",
      "['129,TVS Phoenix Disc 125cc,21500.0,Barasat,10500.0,First Owner,5.0,125.0,TVS']\n",
      "['130,TVS Apache RTR 160cc,40000.0,Delhi,20000.0,First Owner,6.0,160.0,TVS']\n",
      "['131,Royal Enfield Classic 350cc,91000.0,Delhi,18000.0,First Owner,5.0,350.0,Royal Enfield']\n",
      "['132,Harley-Davidson Street 750,300000.0,Ghaziabad,3500.0,First Owner,6.0,750.0,Harley-Davidson']\n",
      "['133,Suzuki Gixxer SF 150cc,47000.0,Jaipur,70000.0,First Owner,6.0,150.0,Suzuki']\n",
      "['134,Suzuki Gixxer 150cc,53000.0,Bangalore,18158.0,First Owner,6.0,150.0,Suzuki']\n",
      "['135,Suzuki Gixxer 150cc,51000.0,Bangalore,39140.0,First Owner,5.0,150.0,Suzuki']\n",
      "['136,Bajaj Pulsar 220F,48000.0,Bangalore,27776.0,First Owner,8.0,220.0,Bajaj']\n",
      "['137,Bajaj Pulsar 220cc,55000.0,Bangalore,32734.0,First Owner,6.0,220.0,Bajaj']\n",
      "['138,Royal Enfield Himalayan 410cc Fi ABS,173300.0,Vadodara,14000.0,First Owner,2.0,410.0,Royal Enfield']\n",
      "['139,Royal Enfield Bullet Electra 350cc,77000.0,Delhi,13000.0,First Owner,8.0,350.0,Royal Enfield']\n",
      "['140,Bajaj Pulsar NS200,115000.0,Bangalore,5000.0,First Owner,2.0,200.0,Bajaj']\n",
      "['141,Bajaj Discover 150cc,36000.0,Hyderabad,39500.0,First Owner,7.0,150.0,Bajaj']\n",
      "['142,Bajaj Avenger Street 220,72000.0,Hyderabad,29500.0,First Owner,4.0,220.0,Bajaj']\n",
      "['143,Royal Enfield Standard 350cc,115000.0,Hyderabad,14900.0,First Owner,3.0,350.0,Royal Enfield']\n",
      "['144,Honda CB Shine 125cc Disc,65000.0,Mumbai,2000.0,First Owner,3.0,125.0,Honda']\n",
      "['145,Honda CB Unicorn ABS 150cc,99000.0,Mumbai,4000.0,First Owner,2.0,150.0,Honda']\n",
      "['146,Yamaha YZF-R15 2.0 150cc,68500.0,Delhi,68500.0,Second Owner,7.0,150.0,Yamaha']\n",
      "['147,Yamaha YZF-R15 V3 150cc,140000.0,Delhi,2473.0,First Owner,2.0,150.0,Yamaha']\n"
     ]
    }
   ],
   "source": [
    "import csv\n",
    "with open(\"Bike_Detail.csv\",\"r\") as f:\n",
    "    Bike_Detail = csv.reader(f, delimiter = '\\n')\n",
    "    for i in Bike_Detail:\n",
    "        print(i)\n",
    "        \n",
    "mydb.commit()"
   ]
  },
  {
   "cell_type": "code",
   "execution_count": 41,
   "id": "716aeb50",
   "metadata": {},
   "outputs": [
    {
     "name": "stdout",
     "output_type": "stream",
     "text": [
      "[',TVS Star City Plus Dual Tone 110cc,35000.0,Ahmedabad,17654.0,First Owner,3.0,110.0,TVS']\n",
      "insert into Bike_Detail0 values (,TVS Star City Plus Dual Tone 110cc,35000.0,Ahmedabad,17654.0,First Owner,3.0,110.0,TVS)\n"
     ]
    },
    {
     "ename": "ProgrammingError",
     "evalue": "1064 (42000): You have an error in your SQL syntax; check the manual that corresponds to your MySQL server version for the right syntax to use near ',TVS Star City Plus Dual Tone 110cc,35000.0,Ahmedabad,17654.0,First Owner,3.0,11' at line 1",
     "output_type": "error",
     "traceback": [
      "\u001b[1;31m---------------------------------------------------------------------------\u001b[0m",
      "\u001b[1;31mMySQLInterfaceError\u001b[0m                       Traceback (most recent call last)",
      "\u001b[1;32m~\\anaconda3\\lib\\site-packages\\mysql\\connector\\connection_cext.py\u001b[0m in \u001b[0;36mcmd_query\u001b[1;34m(self, query, raw, buffered, raw_as_string)\u001b[0m\n\u001b[0;32m    522\u001b[0m                 \u001b[0mquery\u001b[0m \u001b[1;33m=\u001b[0m \u001b[0mquery\u001b[0m\u001b[1;33m.\u001b[0m\u001b[0mencode\u001b[0m\u001b[1;33m(\u001b[0m\u001b[1;34m'utf-8'\u001b[0m\u001b[1;33m)\u001b[0m\u001b[1;33m\u001b[0m\u001b[1;33m\u001b[0m\u001b[0m\n\u001b[1;32m--> 523\u001b[1;33m             self._cmysql.query(query,\n\u001b[0m\u001b[0;32m    524\u001b[0m                                \u001b[0mraw\u001b[0m\u001b[1;33m=\u001b[0m\u001b[0mraw\u001b[0m\u001b[1;33m,\u001b[0m \u001b[0mbuffered\u001b[0m\u001b[1;33m=\u001b[0m\u001b[0mbuffered\u001b[0m\u001b[1;33m,\u001b[0m\u001b[1;33m\u001b[0m\u001b[1;33m\u001b[0m\u001b[0m\n",
      "\u001b[1;31mMySQLInterfaceError\u001b[0m: You have an error in your SQL syntax; check the manual that corresponds to your MySQL server version for the right syntax to use near ',TVS Star City Plus Dual Tone 110cc,35000.0,Ahmedabad,17654.0,First Owner,3.0,11' at line 1",
      "\nDuring handling of the above exception, another exception occurred:\n",
      "\u001b[1;31mProgrammingError\u001b[0m                          Traceback (most recent call last)",
      "\u001b[1;32m<ipython-input-41-6c226396fa9c>\u001b[0m in \u001b[0;36m<module>\u001b[1;34m\u001b[0m\n\u001b[0;32m      4\u001b[0m         \u001b[0mprint\u001b[0m\u001b[1;33m(\u001b[0m\u001b[0mi\u001b[0m\u001b[1;33m)\u001b[0m\u001b[1;33m\u001b[0m\u001b[1;33m\u001b[0m\u001b[0m\n\u001b[0;32m      5\u001b[0m         \u001b[0mprint\u001b[0m\u001b[1;33m(\u001b[0m\u001b[1;34mf'insert into Bike_Detail0 values ({str(i[0])})'\u001b[0m\u001b[1;33m)\u001b[0m\u001b[1;33m\u001b[0m\u001b[1;33m\u001b[0m\u001b[0m\n\u001b[1;32m----> 6\u001b[1;33m         \u001b[0mcursor\u001b[0m\u001b[1;33m.\u001b[0m\u001b[0mexecute\u001b[0m\u001b[1;33m(\u001b[0m\u001b[1;34m'insert into Bike_Detail_Data1.Bike_Detail0 values({values})'\u001b[0m\u001b[1;33m.\u001b[0m\u001b[0mformat\u001b[0m\u001b[1;33m(\u001b[0m\u001b[0mvalues\u001b[0m \u001b[1;33m=\u001b[0m \u001b[1;33m(\u001b[0m\u001b[1;33m(\u001b[0m\u001b[0mi\u001b[0m\u001b[1;33m[\u001b[0m\u001b[1;36m0\u001b[0m\u001b[1;33m]\u001b[0m\u001b[1;33m)\u001b[0m\u001b[1;33m)\u001b[0m\u001b[1;33m)\u001b[0m\u001b[1;33m)\u001b[0m\u001b[1;33m\u001b[0m\u001b[1;33m\u001b[0m\u001b[0m\n\u001b[0m",
      "\u001b[1;32m~\\anaconda3\\lib\\site-packages\\mysql\\connector\\cursor_cext.py\u001b[0m in \u001b[0;36mexecute\u001b[1;34m(self, operation, params, multi)\u001b[0m\n\u001b[0;32m    267\u001b[0m \u001b[1;33m\u001b[0m\u001b[0m\n\u001b[0;32m    268\u001b[0m         \u001b[1;32mtry\u001b[0m\u001b[1;33m:\u001b[0m\u001b[1;33m\u001b[0m\u001b[1;33m\u001b[0m\u001b[0m\n\u001b[1;32m--> 269\u001b[1;33m             result = self._cnx.cmd_query(stmt, raw=self._raw,\n\u001b[0m\u001b[0;32m    270\u001b[0m                                          \u001b[0mbuffered\u001b[0m\u001b[1;33m=\u001b[0m\u001b[0mself\u001b[0m\u001b[1;33m.\u001b[0m\u001b[0m_buffered\u001b[0m\u001b[1;33m,\u001b[0m\u001b[1;33m\u001b[0m\u001b[1;33m\u001b[0m\u001b[0m\n\u001b[0;32m    271\u001b[0m                                          raw_as_string=self._raw_as_string)\n",
      "\u001b[1;32m~\\anaconda3\\lib\\site-packages\\mysql\\connector\\connection_cext.py\u001b[0m in \u001b[0;36mcmd_query\u001b[1;34m(self, query, raw, buffered, raw_as_string)\u001b[0m\n\u001b[0;32m    526\u001b[0m                                query_attrs=self._query_attrs)\n\u001b[0;32m    527\u001b[0m         \u001b[1;32mexcept\u001b[0m \u001b[0mMySQLInterfaceError\u001b[0m \u001b[1;32mas\u001b[0m \u001b[0mexc\u001b[0m\u001b[1;33m:\u001b[0m\u001b[1;33m\u001b[0m\u001b[1;33m\u001b[0m\u001b[0m\n\u001b[1;32m--> 528\u001b[1;33m             raise errors.get_mysql_exception(exc.errno, msg=exc.msg,\n\u001b[0m\u001b[0;32m    529\u001b[0m                                              sqlstate=exc.sqlstate)\n\u001b[0;32m    530\u001b[0m         \u001b[1;32mexcept\u001b[0m \u001b[0mAttributeError\u001b[0m\u001b[1;33m:\u001b[0m\u001b[1;33m\u001b[0m\u001b[1;33m\u001b[0m\u001b[0m\n",
      "\u001b[1;31mProgrammingError\u001b[0m: 1064 (42000): You have an error in your SQL syntax; check the manual that corresponds to your MySQL server version for the right syntax to use near ',TVS Star City Plus Dual Tone 110cc,35000.0,Ahmedabad,17654.0,First Owner,3.0,11' at line 1"
     ]
    }
   ],
   "source": [
    "with open('Bike_Detail.csv', \"r\") as f:\n",
    "    Bike_Detail = csv.reader(f,delimiter = '\\n')                    \n",
    "    for i in Bike_Detail:\n",
    "        print(i)\n",
    "        print(f'insert into Bike_Detail0 values ({str(i[0])})')\n",
    "        cursor.execute('insert into Bike_Detail_Data1.Bike_Detail0 values({values})'.format(values = ((i[0]))))"
   ]
  },
  {
   "cell_type": "code",
   "execution_count": null,
   "id": "2b017c3d",
   "metadata": {},
   "outputs": [],
   "source": []
  }
 ],
 "metadata": {
  "kernelspec": {
   "display_name": "Python 3",
   "language": "python",
   "name": "python3"
  },
  "language_info": {
   "codemirror_mode": {
    "name": "ipython",
    "version": 3
   },
   "file_extension": ".py",
   "mimetype": "text/x-python",
   "name": "python",
   "nbconvert_exporter": "python",
   "pygments_lexer": "ipython3",
   "version": "3.8.8"
  }
 },
 "nbformat": 4,
 "nbformat_minor": 5
}
